{
 "cells": [
  {
   "cell_type": "code",
   "execution_count": null,
   "metadata": {
    "collapsed": true
   },
   "outputs": [],
   "source": []
  },
  {
   "cell_type": "markdown",
   "source": [
    "Compute chromaticity"
   ],
   "metadata": {
    "collapsed": false
   }
  },
  {
   "cell_type": "code",
   "execution_count": 3,
   "outputs": [
    {
     "name": "stdout",
     "output_type": "stream",
     "text": [
      "adding metadata to the df ...\n",
      "computing chord chromaticity indices ...\n",
      "computing piece-level chromaticity ...\n",
      "0        9\n",
      "1       10\n",
      "2        9\n",
      "3        9\n",
      "4        8\n",
      "        ..\n",
      "1218     9\n",
      "1219     8\n",
      "1220    10\n",
      "1221     9\n",
      "1222     8\n",
      "Name: max_ct, Length: 1223, dtype: int64\n"
     ]
    }
   ],
   "source": [
    "from compute import load_dcml_harmonies_tsv, compute_chord_chromaticity, compute_piece_chromaticity, save_df\n",
    "\n",
    "\n",
    "# load preprocess data\n",
    "h = load_dcml_harmonies_tsv(harmony_tsv_path=\"data/dcml_harmonies.tsv\",\n",
    "                            meatadata_tsv_path=\"data/all_subcorpora/all_subcorpora.metadata.tsv\")\n",
    "\n",
    "print(f'computing chord chromaticity indices ...')\n",
    "chord_chromaticity_df = compute_chord_chromaticity(h)\n",
    "save_df(df=chord_chromaticity_df, directory=\"data/\", fname=\"chord_chromaticities\")\n",
    "\n",
    "print(f'computing piece-level chromaticity ...')\n",
    "piece_chromaticity_df = compute_piece_chromaticity(chord_chromaticity_df)\n",
    "save_df(df=piece_chromaticity_df, directory=\"data/\", fname=\"piece_chromaticities\")\n"
   ],
   "metadata": {
    "collapsed": false,
    "ExecuteTime": {
     "start_time": "2023-10-30T10:49:55.013310Z",
     "end_time": "2023-10-30T10:50:59.818222Z"
    }
   }
  },
  {
   "cell_type": "code",
   "execution_count": null,
   "outputs": [],
   "source": [],
   "metadata": {
    "collapsed": false
   }
  },
  {
   "cell_type": "code",
   "execution_count": null,
   "outputs": [],
   "source": [],
   "metadata": {
    "collapsed": false
   }
  },
  {
   "cell_type": "code",
   "execution_count": null,
   "outputs": [],
   "source": [],
   "metadata": {
    "collapsed": false
   }
  }
 ],
 "metadata": {
  "kernelspec": {
   "display_name": "Python 3",
   "language": "python",
   "name": "python3"
  },
  "language_info": {
   "codemirror_mode": {
    "name": "ipython",
    "version": 2
   },
   "file_extension": ".py",
   "mimetype": "text/x-python",
   "name": "python",
   "nbconvert_exporter": "python",
   "pygments_lexer": "ipython2",
   "version": "2.7.6"
  }
 },
 "nbformat": 4,
 "nbformat_minor": 0
}
